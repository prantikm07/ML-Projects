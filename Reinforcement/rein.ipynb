{
 "cells": [
  {
   "cell_type": "code",
   "execution_count": 8,
   "metadata": {},
   "outputs": [],
   "source": [
    "import pandas as pd\n",
    "import numpy as np\n",
    "import random"
   ]
  },
  {
   "cell_type": "code",
   "execution_count": 9,
   "metadata": {},
   "outputs": [],
   "source": [
    "class Field:\n",
    "    def __init__(self):\n",
    "        self.states = [-1, 0, 0, 0, 0, 0, 0, 1, 0, 0, 0]\n",
    "        self.st = random.randrange(0, len(self.states))\n",
    "    \n",
    "    def done(self):\n",
    "        if self.states[self.st] != 0:\n",
    "            return True\n",
    "        else:\n",
    "            return False\n",
    "        \n",
    "        #action: 0 = left\n",
    "        #action: 1 = right\n",
    "    def get_possible_actions(self):\n",
    "        actions = [0, 1]\n",
    "        if self.st == 0:\n",
    "            actions.remove(0)\n",
    "        if self.st == len(self.states) -1:\n",
    "            actions.remove(1)\n",
    "            return actions\n",
    "        \n",
    "    def update_state(self, action):\n",
    "        if action == 0:\n",
    "            if self.st == 0:\n",
    "                return self.st, -10\n",
    "            self.st -= 1\n",
    "        elif action == 1:\n",
    "            if self.st == len(self.states) -1:\n",
    "                return self.st, -10\n",
    "            self.st += 1\n",
    "\n",
    "        reward = self.states[self.st]\n",
    "        return self.st, reward"
   ]
  },
  {
   "cell_type": "code",
   "execution_count": 10,
   "metadata": {},
   "outputs": [
    {
     "data": {
      "text/plain": [
       "(0, True, None)"
      ]
     },
     "execution_count": 10,
     "metadata": {},
     "output_type": "execute_result"
    }
   ],
   "source": [
    "field = Field()\n",
    "field.st, field.done(), field.get_possible_actions()"
   ]
  },
  {
   "cell_type": "code",
   "execution_count": 11,
   "metadata": {},
   "outputs": [
    {
     "data": {
      "text/plain": [
       "(1, False, None)"
      ]
     },
     "execution_count": 11,
     "metadata": {},
     "output_type": "execute_result"
    }
   ],
   "source": [
    "field.update_state(1)\n",
    "field.st, field.done(), field.get_possible_actions()"
   ]
  },
  {
   "cell_type": "code",
   "execution_count": 12,
   "metadata": {},
   "outputs": [
    {
     "data": {
      "text/plain": [
       "(2, 0)"
      ]
     },
     "execution_count": 12,
     "metadata": {},
     "output_type": "execute_result"
    }
   ],
   "source": [
    "field.update_state(1)"
   ]
  },
  {
   "cell_type": "code",
   "execution_count": 13,
   "metadata": {},
   "outputs": [
    {
     "data": {
      "text/plain": [
       "array([[0., 0.],\n",
       "       [0., 0.],\n",
       "       [0., 0.],\n",
       "       [0., 0.],\n",
       "       [0., 0.],\n",
       "       [0., 0.],\n",
       "       [0., 0.],\n",
       "       [0., 0.],\n",
       "       [0., 0.],\n",
       "       [0., 0.],\n",
       "       [0., 0.]])"
      ]
     },
     "execution_count": 13,
     "metadata": {},
     "output_type": "execute_result"
    }
   ],
   "source": [
    "field = Field()\n",
    "q_table = np.zeros((len(field.states), 2))\n",
    "q_table"
   ]
  },
  {
   "cell_type": "code",
   "execution_count": null,
   "metadata": {},
   "outputs": [
    {
     "ename": "NameError",
     "evalue": "name 'x_dim' is not defined",
     "output_type": "error",
     "traceback": [
      "\u001b[1;31m---------------------------------------------------------------------------\u001b[0m",
      "\u001b[1;31mNameError\u001b[0m                                 Traceback (most recent call last)",
      "Cell \u001b[1;32mIn[14], line 7\u001b[0m\n\u001b[0;32m      4\u001b[0m gamma \u001b[38;5;241m=\u001b[39m \u001b[38;5;241m-\u001b[39m\u001b[38;5;241m5\u001b[39m\n\u001b[0;32m      6\u001b[0m \u001b[38;5;66;03m# Initialize Q-table: assume state space is (x_dim, y_dim) and number of actions is action_space_size\u001b[39;00m\n\u001b[1;32m----> 7\u001b[0m q_table \u001b[38;5;241m=\u001b[39m np\u001b[38;5;241m.\u001b[39mzeros((x_dim, y_dim, action_space_size))  \u001b[38;5;66;03m# Replace x_dim, y_dim, action_space_size with actual dimensions\u001b[39;00m\n\u001b[0;32m      9\u001b[0m \u001b[38;5;28;01mfor\u001b[39;00m _ \u001b[38;5;129;01min\u001b[39;00m \u001b[38;5;28mrange\u001b[39m(\u001b[38;5;241m10000\u001b[39m):\n\u001b[0;32m     10\u001b[0m     field \u001b[38;5;241m=\u001b[39m Field()  \u001b[38;5;66;03m# Assuming the field is reset for each episode\u001b[39;00m\n",
      "\u001b[1;31mNameError\u001b[0m: name 'x_dim' is not defined"
     ]
    }
   ],
   "source": [
    "alpha = .5\n",
    "epsilon = .5\n",
    "gamma = -5\n",
    "\n",
    "for _ in range(10000):\n",
    "    field = Field()\n",
    "    while not field.done():\n",
    "        actions = field.get_possible_actions()\n",
    "        if random.uniform(0, 1) < epsilon:\n",
    "            action = random.choice(actions)\n",
    "        else:\n",
    "            action = np.argmax(q_table[field.st])\n",
    "        \n",
    "        cur_x, cur_y = field.st\n",
    "        (next_x, next_y), reward = field.update_state(action)\n",
    "        \n",
    "        q_table[cur_x, cur_y, action] += alpha * (reward + gamma * np.max(q_table[next_x, next_y]) - q_table[cur_x, cur_y, action])"
   ]
  }
 ],
 "metadata": {
  "kernelspec": {
   "display_name": "base",
   "language": "python",
   "name": "python3"
  },
  "language_info": {
   "codemirror_mode": {
    "name": "ipython",
    "version": 3
   },
   "file_extension": ".py",
   "mimetype": "text/x-python",
   "name": "python",
   "nbconvert_exporter": "python",
   "pygments_lexer": "ipython3",
   "version": "3.12.7"
  }
 },
 "nbformat": 4,
 "nbformat_minor": 2
}
